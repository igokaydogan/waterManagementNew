{
 "cells": [
  {
   "cell_type": "code",
   "id": "initial_id",
   "metadata": {
    "collapsed": true,
    "ExecuteTime": {
     "end_time": "2024-10-02T16:09:32.975337Z",
     "start_time": "2024-10-02T16:09:32.973114Z"
    }
   },
   "source": [
    "from gamspy import (\n",
    "    Container,\n",
    "    Set,\n",
    "    Alias,\n",
    "    Parameter,\n",
    "    Variable,\n",
    "    Equation,\n",
    "    Sum,\n",
    "    Model,\n",
    "    Sense,\n",
    ")\n",
    "import pandas as pd\n",
    "from itertools import product\n",
    "import plotly.express as px"
   ],
   "outputs": [],
   "execution_count": 2
  },
  {
   "metadata": {
    "ExecuteTime": {
     "end_time": "2024-10-02T16:09:43.407294Z",
     "start_time": "2024-10-02T16:09:43.397833Z"
    }
   },
   "cell_type": "code",
   "source": [
    "products = [\"Product_A\", \"Product_B\", \"Product_C\"]\n",
    "time_periods = [1, 2, 3, 4]\n",
    "resources = [\"Resource_A\", \"Resource_B\"]\n",
    "\n",
    "kj = pd.DataFrame(product(products, resources))\n",
    "\n",
    "demand_data = pd.DataFrame(\n",
    "    {\n",
    "        \"Product_A\": {1: 100, 2: 150, 3: 120, 4: 180},\n",
    "        \"Product_B\": {1: 80, 2: 100, 3: 90, 4: 120},\n",
    "        \"Product_C\": {1: 50, 2: 60, 3: 70, 4: 80},\n",
    "    }\n",
    ").unstack()\n",
    "\n",
    "setup_cost_data = pd.DataFrame(\n",
    "    [(\"Product_A\", 100), (\"Product_B\", 200), (\"Product_C\", 300)]\n",
    ")\n",
    "holding_cost_data = pd.DataFrame(\n",
    "    [(\"Product_A\", 0.2), (\"Product_B\", 0.1), (\"Product_C\", 0.6)]\n",
    ")\n",
    "\n",
    "capacity_data = pd.DataFrame(\n",
    "    [\n",
    "        (\"Resource_A\", 1, 340),\n",
    "        (\"Resource_B\", 1, 340),\n",
    "        (\"Resource_A\", 2, 330),\n",
    "        (\"Resource_B\", 2, 330),\n",
    "        (\"Resource_A\", 3, 300),\n",
    "        (\"Resource_B\", 3, 300),\n",
    "        (\"Resource_A\", 4, 380),\n",
    "        (\"Resource_B\", 4, 380),\n",
    "    ]\n",
    ")"
   ],
   "id": "a145c7aeaf212b18",
   "outputs": [],
   "execution_count": 3
  },
  {
   "metadata": {
    "ExecuteTime": {
     "end_time": "2024-10-02T16:11:27.064060Z",
     "start_time": "2024-10-02T16:11:27.060471Z"
    }
   },
   "cell_type": "code",
   "source": "holding_cost_data",
   "id": "90b9b1308c6d08f",
   "outputs": [
    {
     "data": {
      "text/plain": [
       "           0    1\n",
       "0  Product_A  0.2\n",
       "1  Product_B  0.1\n",
       "2  Product_C  0.6"
      ],
      "text/html": [
       "<div>\n",
       "<style scoped>\n",
       "    .dataframe tbody tr th:only-of-type {\n",
       "        vertical-align: middle;\n",
       "    }\n",
       "\n",
       "    .dataframe tbody tr th {\n",
       "        vertical-align: top;\n",
       "    }\n",
       "\n",
       "    .dataframe thead th {\n",
       "        text-align: right;\n",
       "    }\n",
       "</style>\n",
       "<table border=\"1\" class=\"dataframe\">\n",
       "  <thead>\n",
       "    <tr style=\"text-align: right;\">\n",
       "      <th></th>\n",
       "      <th>0</th>\n",
       "      <th>1</th>\n",
       "    </tr>\n",
       "  </thead>\n",
       "  <tbody>\n",
       "    <tr>\n",
       "      <th>0</th>\n",
       "      <td>Product_A</td>\n",
       "      <td>0.2</td>\n",
       "    </tr>\n",
       "    <tr>\n",
       "      <th>1</th>\n",
       "      <td>Product_B</td>\n",
       "      <td>0.1</td>\n",
       "    </tr>\n",
       "    <tr>\n",
       "      <th>2</th>\n",
       "      <td>Product_C</td>\n",
       "      <td>0.6</td>\n",
       "    </tr>\n",
       "  </tbody>\n",
       "</table>\n",
       "</div>"
      ]
     },
     "execution_count": 7,
     "metadata": {},
     "output_type": "execute_result"
    }
   ],
   "execution_count": 7
  },
  {
   "metadata": {
    "ExecuteTime": {
     "end_time": "2024-10-02T16:11:46.754301Z",
     "start_time": "2024-10-02T16:11:46.655557Z"
    }
   },
   "cell_type": "code",
   "source": [
    "# Container definition\n",
    "m = Container()\n",
    "\n",
    "# SETS\n",
    "k = Set(m, name=\"k\", description=\"products\", records=products)\n",
    "j = Set(m, name=\"j\", description=\"resources\", records=resources)\n",
    "t = Set(m, name=\"t\", description=\"time periods\", records=time_periods)\n",
    "KJ = Set(\n",
    "    m,\n",
    "    name=\"KJ\",\n",
    "    domain=[k, j],\n",
    "    description=\"products k that can be handled by resource j\",\n",
    "    records=kj,\n",
    ")\n",
    "\n",
    "# ALIAS\n",
    "tau = Alias(m, name=\"tau\", alias_with=t)\n",
    "\n",
    "# PARAMETERS\n",
    "d = Parameter(\n",
    "    m,\n",
    "    name=\"d\",\n",
    "    domain=[k, t],\n",
    "    description=\"demand of product k in period t\",\n",
    "    records=demand_data,\n",
    ")\n",
    "s = Parameter(\n",
    "    m,\n",
    "    name=\"s\",\n",
    "    domain=k,\n",
    "    description=\"fixed setup cost for product k\",\n",
    "    records=setup_cost_data,\n",
    ")\n",
    "h = Parameter(\n",
    "    m,\n",
    "    name=\"h\",\n",
    "    domain=k,\n",
    "    description=\"holding cost for product k\",\n",
    "    records=holding_cost_data,\n",
    ")\n",
    "c = Parameter(\n",
    "    m,\n",
    "    name=\"c\",\n",
    "    domain=[j, t],\n",
    "    description=\"production capacity of resource j in period t\",\n",
    "    records=capacity_data,\n",
    ")\n",
    "\n",
    "# VARIABLES\n",
    "X = Variable(\n",
    "    m,\n",
    "    name=\"X\",\n",
    "    domain=[k, t],\n",
    "    type=\"positive\",\n",
    "    description=\"lot size of product k in period t\",\n",
    ")\n",
    "Y = Variable(\n",
    "    m,\n",
    "    name=\"Y\",\n",
    "    domain=[k, t],\n",
    "    type=\"binary\",\n",
    "    description=\"indicates if product k is manufactured in period t\",\n",
    ")\n",
    "Z = Variable(\n",
    "    m,\n",
    "    name=\"Z\",\n",
    "    domain=[k, t],\n",
    "    type=\"positive\",\n",
    "    description=\"stock of product k in period t\",\n",
    ")"
   ],
   "id": "4feaca62b2638e2f",
   "outputs": [],
   "execution_count": 9
  },
  {
   "metadata": {
    "ExecuteTime": {
     "end_time": "2024-10-02T16:12:01.103132Z",
     "start_time": "2024-10-02T16:12:01.099796Z"
    }
   },
   "cell_type": "code",
   "source": "d",
   "id": "2d8b3053ab1bc5c9",
   "outputs": [
    {
     "data": {
      "text/plain": [
       "Parameter(name=d, domain=[Set(name=k, domain=['*']), Set(name=t, domain=['*'])])"
      ]
     },
     "execution_count": 10,
     "metadata": {},
     "output_type": "execute_result"
    }
   ],
   "execution_count": 10
  },
  {
   "metadata": {},
   "cell_type": "code",
   "outputs": [],
   "execution_count": null,
   "source": "",
   "id": "9a3a0514ac06f74b"
  }
 ],
 "metadata": {
  "kernelspec": {
   "display_name": "Python 3",
   "language": "python",
   "name": "python3"
  },
  "language_info": {
   "codemirror_mode": {
    "name": "ipython",
    "version": 2
   },
   "file_extension": ".py",
   "mimetype": "text/x-python",
   "name": "python",
   "nbconvert_exporter": "python",
   "pygments_lexer": "ipython2",
   "version": "2.7.6"
  }
 },
 "nbformat": 4,
 "nbformat_minor": 5
}
